{
 "cells": [
  {
   "cell_type": "code",
   "execution_count": null,
   "source": [
    "from __future__ import print_function \r\n",
    "import numpy as np\r\n",
    "import matplotlib.pyplot as plt\r\n",
    "from scipy.spatial.distance import cdist\r\n",
    "np.random.seed(11)"
   ],
   "outputs": [],
   "metadata": {}
  },
  {
   "cell_type": "code",
   "execution_count": null,
   "source": [
    "means = [[2, 2], [8, 3], [3, 6]]\r\n",
    "cov = [[1, 0], [0, 1]]\r\n",
    "N = 500\r\n",
    "X0 = np.random.multivariate_normal(means[0], cov, N)\r\n",
    "X1 = np.random.multivariate_normal(means[1], cov, N)\r\n",
    "X2 = np.random.multivariate_normal(means[2], cov, N)\r\n",
    "\r\n",
    "X = np.concatenate((X0, X1, X2), axis = 0) \r\n",
    "K = 3\r\n",
    "\r\n",
    "original_label = np.asarray([0]*N + [1]*N + [2]*N).T"
   ],
   "outputs": [],
   "metadata": {}
  },
  {
   "cell_type": "code",
   "execution_count": null,
   "source": [
    "def kmeans_display(X, label):\r\n",
    "    K = np.amax(label) + 1\r\n",
    "    X0 = X[label == 0, :]\r\n",
    "    X1 = X[label == 1, :]\r\n",
    "    X2 = X[label == 2, :]\r\n",
    "    \r\n",
    "    plt.plot(X0[:, 0], X0[:, 1], 'b^', markersize = 4, alpha = .8)\r\n",
    "    plt.plot(X1[:, 0], X1[:, 1], 'go', markersize = 4, alpha = .8)\r\n",
    "    plt.plot(X2[:, 0], X2[:, 1], 'rs', markersize = 4, alpha = .8)\r\n",
    "\r\n",
    "    plt.axis('equal')\r\n",
    "    plt.plot()\r\n",
    "    plt.show()\r\n",
    "    \r\n",
    "kmeans_display(X, original_label)"
   ],
   "outputs": [],
   "metadata": {}
  },
  {
   "cell_type": "code",
   "execution_count": null,
   "source": [
    "X = np.vstack((X0,X1,X2))\r\n",
    "X           "
   ],
   "outputs": [],
   "metadata": {}
  },
  {
   "cell_type": "code",
   "execution_count": null,
   "source": [
    "plt.scatter(X[:, 0], X[:, 1])"
   ],
   "outputs": [],
   "metadata": {}
  },
  {
   "cell_type": "code",
   "execution_count": null,
   "source": [
    "def identify_centers(X, n_cluster):\r\n",
    "    return X[np.random.choice(X.shape[0],n_cluster, replace=False)]"
   ],
   "outputs": [],
   "metadata": {}
  },
  {
   "cell_type": "code",
   "execution_count": null,
   "source": [
    "plt.scatter(X[:, 0], X[:, 1])\r\n",
    "centers = identify_centers(X, 3)\r\n",
    "plt.scatter(centroids[:, 0], centroids[:, 1], c='r', s=100)"
   ],
   "outputs": [],
   "metadata": {}
  },
  {
   "cell_type": "code",
   "execution_count": null,
   "source": [
    "def assign_labels(X, centers):\r\n",
    "    distance = cdist(X, centers)\r\n",
    "    return np.argmin(distance, axis = 1)"
   ],
   "outputs": [],
   "metadata": {}
  },
  {
   "cell_type": "code",
   "execution_count": null,
   "source": [
    "def update_centers(X, label, n_cluster):\r\n",
    "  centers = np.zeros((n_cluster, X.shape[1]))\r\n",
    "  for k in range(n_cluster):\r\n",
    "    centers[k,:] = np.mean(X[label == k], axis = 0) \r\n",
    "  return centers"
   ],
   "outputs": [],
   "metadata": {}
  },
  {
   "cell_type": "code",
   "execution_count": null,
   "source": [
    "def kmeans(X, n_cluster):\r\n",
    "    centers = identify_centers(X, n_cluster)\r\n",
    "    labels = []\r\n",
    "    running = True\r\n",
    "    while running:\r\n",
    "        labels = assign_labels(X, centers)\r\n",
    "        new_centers = update_centers(X, labels, n_cluster)\r\n",
    "        if (centers == new_centers).all():\r\n",
    "            running == False\r\n",
    "        return labels,new_centers"
   ],
   "outputs": [],
   "metadata": {}
  },
  {
   "cell_type": "code",
   "execution_count": null,
   "source": [
    "def display_kmean(X,labels,new_centers):\r\n",
    "    plt.scatter(X[:, 0], X[:, 1], c = labels)\r\n",
    "    plt.scatter(new_centers[:, 0], new_centers[:, 1], c='r', s=100)\r\n",
    "    plt.show()"
   ],
   "outputs": [],
   "metadata": {}
  },
  {
   "cell_type": "code",
   "execution_count": null,
   "source": [
    "labels,new_centers = kmeans(X,4)\r\n",
    "display_kmean(X,labels,new_centers)"
   ],
   "outputs": [],
   "metadata": {}
  },
  {
   "cell_type": "code",
   "execution_count": null,
   "source": [
    "labels,new_centers = kmeans(X,3)\r\n",
    "display_kmean(X,labels,new_centers)"
   ],
   "outputs": [],
   "metadata": {}
  },
  {
   "cell_type": "code",
   "execution_count": null,
   "source": [
    "labels,new_centers = kmeans(X,2)\r\n",
    "display_kmean(X,labels,new_centers)"
   ],
   "outputs": [],
   "metadata": {}
  }
 ],
 "metadata": {
  "orig_nbformat": 4,
  "language_info": {
   "name": "python"
  }
 },
 "nbformat": 4,
 "nbformat_minor": 2
}